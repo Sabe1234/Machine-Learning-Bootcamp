{
 "cells": [
  {
   "cell_type": "code",
   "execution_count": 1,
   "id": "51bbb411",
   "metadata": {},
   "outputs": [],
   "source": [
    "#API application programming interface you can pull data from, different format than html (usually in json)"
   ]
  },
  {
   "cell_type": "code",
   "execution_count": 2,
   "id": "38e22e48",
   "metadata": {},
   "outputs": [],
   "source": [
    "#Requests library allows python to make HTTP(Hypertext Transfer Protocol) requests\n",
    "#HTTP is a protocol used to fetch resources like HTML \n",
    "import requests\n",
    "#Pandas is a library built on top of NumPyy used to import csv(comma separated files), SQL, Excel, etc files \n",
    "#Also used to analyze data\n",
    "import pandas as pd\n",
    "#Matplotlib is a visualization library used to plot 2D arrays.\n",
    "import matplotlib.pyplot as plt"
   ]
  },
  {
   "cell_type": "code",
   "execution_count": 3,
   "id": "4c29b4de",
   "metadata": {},
   "outputs": [],
   "source": [
    "#API key from alphavantage\n",
    "API_KEY = \"05KO1LDTRZ2WV6AU\""
   ]
  },
  {
   "cell_type": "code",
   "execution_count": 4,
   "id": "40716b32",
   "metadata": {},
   "outputs": [],
   "source": [
    "symbol = \"BTC\""
   ]
  },
  {
   "cell_type": "code",
   "execution_count": 5,
   "id": "a2565c62",
   "metadata": {},
   "outputs": [],
   "source": [
    "#Using {} as placeholders\n",
    "url = \"https://www.alphavantage.co/query?function=DIGITAL_CURRENCY_DAILY&symbol={}&market=USD&apikey={}\""
   ]
  },
  {
   "cell_type": "code",
   "execution_count": 6,
   "id": "8d06b602",
   "metadata": {},
   "outputs": [
    {
     "data": {
      "text/plain": [
       "'https://www.alphavantage.co/query?function=DIGITAL_CURRENCY_DAILY&symbol=BTC&market=USD&apikey=05KO1LDTRZ2WV6AU'"
      ]
     },
     "execution_count": 6,
     "metadata": {},
     "output_type": "execute_result"
    }
   ],
   "source": [
    "#format inserts values\n",
    "path = url.format(symbol, API_KEY)\n",
    "path"
   ]
  },
  {
   "cell_type": "code",
   "execution_count": 7,
   "id": "e9ab0457",
   "metadata": {},
   "outputs": [
    {
     "data": {
      "text/plain": [
       "<Response [200]>"
      ]
     },
     "execution_count": 7,
     "metadata": {},
     "output_type": "execute_result"
    }
   ],
   "source": [
    "#Response 200-299 is successful (Mozilla)\n",
    "rawdata = requests.get(path)\n",
    "rawdata"
   ]
  },
  {
   "cell_type": "code",
   "execution_count": 8,
   "id": "b2b0efe7",
   "metadata": {},
   "outputs": [
    {
     "data": {
      "text/plain": [
       "dict_keys(['Meta Data', 'Time Series (Digital Currency Daily)'])"
      ]
     },
     "execution_count": 8,
     "metadata": {},
     "output_type": "execute_result"
    }
   ],
   "source": [
    "#Finds the keys or Index of pandas series object and gives column names\n",
    "data = rawdata.json()\n",
    "data.keys()"
   ]
  },
  {
   "cell_type": "code",
   "execution_count": 9,
   "id": "9bc0589f",
   "metadata": {},
   "outputs": [
    {
     "data": {
      "text/plain": [
       "dict_keys(['1. Information', '2. Digital Currency Code', '3. Digital Currency Name', '4. Market Code', '5. Market Name', '6. Last Refreshed', '7. Time Zone'])"
      ]
     },
     "execution_count": 9,
     "metadata": {},
     "output_type": "execute_result"
    }
   ],
   "source": [
    "data[\"Meta Data\"].keys()"
   ]
  },
  {
   "cell_type": "code",
   "execution_count": 10,
   "id": "cf13f322",
   "metadata": {},
   "outputs": [
    {
     "data": {
      "text/plain": [
       "'2022-03-27 00:00:00'"
      ]
     },
     "execution_count": 10,
     "metadata": {},
     "output_type": "execute_result"
    }
   ],
   "source": [
    "data[\"Meta Data\"][\"6. Last Refreshed\"]"
   ]
  },
  {
   "cell_type": "code",
   "execution_count": 11,
   "id": "b874c520",
   "metadata": {},
   "outputs": [],
   "source": [
    "d = data[\"Time Series (Digital Currency Daily)\"]"
   ]
  },
  {
   "cell_type": "code",
   "execution_count": 12,
   "id": "6b061ed1",
   "metadata": {},
   "outputs": [],
   "source": [
    "#How to convert d(variable) into DF"
   ]
  },
  {
   "cell_type": "code",
   "execution_count": 13,
   "id": "4b8d6632",
   "metadata": {},
   "outputs": [],
   "source": [
    "df = pd.DataFrame(d)"
   ]
  },
  {
   "cell_type": "code",
   "execution_count": 14,
   "id": "f307ed6a",
   "metadata": {},
   "outputs": [
    {
     "data": {
      "text/html": [
       "<div>\n",
       "<style scoped>\n",
       "    .dataframe tbody tr th:only-of-type {\n",
       "        vertical-align: middle;\n",
       "    }\n",
       "\n",
       "    .dataframe tbody tr th {\n",
       "        vertical-align: top;\n",
       "    }\n",
       "\n",
       "    .dataframe thead th {\n",
       "        text-align: right;\n",
       "    }\n",
       "</style>\n",
       "<table border=\"1\" class=\"dataframe\">\n",
       "  <thead>\n",
       "    <tr style=\"text-align: right;\">\n",
       "      <th></th>\n",
       "      <th>2022-03-27</th>\n",
       "      <th>2022-03-26</th>\n",
       "      <th>2022-03-25</th>\n",
       "      <th>2022-03-24</th>\n",
       "      <th>2022-03-23</th>\n",
       "      <th>2022-03-22</th>\n",
       "      <th>2022-03-21</th>\n",
       "      <th>2022-03-20</th>\n",
       "      <th>2022-03-19</th>\n",
       "      <th>2022-03-18</th>\n",
       "      <th>...</th>\n",
       "      <th>2019-07-11</th>\n",
       "      <th>2019-07-10</th>\n",
       "      <th>2019-07-09</th>\n",
       "      <th>2019-07-08</th>\n",
       "      <th>2019-07-07</th>\n",
       "      <th>2019-07-06</th>\n",
       "      <th>2019-07-05</th>\n",
       "      <th>2019-07-04</th>\n",
       "      <th>2019-07-03</th>\n",
       "      <th>2019-07-02</th>\n",
       "    </tr>\n",
       "  </thead>\n",
       "  <tbody>\n",
       "    <tr>\n",
       "      <th>1a. open (USD)</th>\n",
       "      <td>44511.27000000</td>\n",
       "      <td>44313.16000000</td>\n",
       "      <td>43991.46000000</td>\n",
       "      <td>42882.76000000</td>\n",
       "      <td>42364.13000000</td>\n",
       "      <td>41002.26000000</td>\n",
       "      <td>41262.11000000</td>\n",
       "      <td>42201.13000000</td>\n",
       "      <td>41757.51000000</td>\n",
       "      <td>40917.89000000</td>\n",
       "      <td>...</td>\n",
       "      <td>12108.11000000</td>\n",
       "      <td>12548.51000000</td>\n",
       "      <td>12238.60000000</td>\n",
       "      <td>11410.00000000</td>\n",
       "      <td>11256.45000000</td>\n",
       "      <td>10982.41000000</td>\n",
       "      <td>11145.67000000</td>\n",
       "      <td>11940.00000000</td>\n",
       "      <td>10844.98000000</td>\n",
       "      <td>10624.90000000</td>\n",
       "    </tr>\n",
       "    <tr>\n",
       "      <th>1b. open (USD)</th>\n",
       "      <td>44511.27000000</td>\n",
       "      <td>44313.16000000</td>\n",
       "      <td>43991.46000000</td>\n",
       "      <td>42882.76000000</td>\n",
       "      <td>42364.13000000</td>\n",
       "      <td>41002.26000000</td>\n",
       "      <td>41262.11000000</td>\n",
       "      <td>42201.13000000</td>\n",
       "      <td>41757.51000000</td>\n",
       "      <td>40917.89000000</td>\n",
       "      <td>...</td>\n",
       "      <td>12108.11000000</td>\n",
       "      <td>12548.51000000</td>\n",
       "      <td>12238.60000000</td>\n",
       "      <td>11410.00000000</td>\n",
       "      <td>11256.45000000</td>\n",
       "      <td>10982.41000000</td>\n",
       "      <td>11145.67000000</td>\n",
       "      <td>11940.00000000</td>\n",
       "      <td>10844.98000000</td>\n",
       "      <td>10624.90000000</td>\n",
       "    </tr>\n",
       "    <tr>\n",
       "      <th>2a. high (USD)</th>\n",
       "      <td>44619.00000000</td>\n",
       "      <td>44792.99000000</td>\n",
       "      <td>45094.14000000</td>\n",
       "      <td>44220.89000000</td>\n",
       "      <td>43025.96000000</td>\n",
       "      <td>43361.00000000</td>\n",
       "      <td>41544.22000000</td>\n",
       "      <td>42296.26000000</td>\n",
       "      <td>42400.00000000</td>\n",
       "      <td>42325.02000000</td>\n",
       "      <td>...</td>\n",
       "      <td>12111.73000000</td>\n",
       "      <td>13147.08000000</td>\n",
       "      <td>12794.73000000</td>\n",
       "      <td>12338.03000000</td>\n",
       "      <td>11538.00000000</td>\n",
       "      <td>11665.00000000</td>\n",
       "      <td>11406.83000000</td>\n",
       "      <td>12000.00000000</td>\n",
       "      <td>11991.89000000</td>\n",
       "      <td>10938.75000000</td>\n",
       "    </tr>\n",
       "    <tr>\n",
       "      <th>2b. high (USD)</th>\n",
       "      <td>44619.00000000</td>\n",
       "      <td>44792.99000000</td>\n",
       "      <td>45094.14000000</td>\n",
       "      <td>44220.89000000</td>\n",
       "      <td>43025.96000000</td>\n",
       "      <td>43361.00000000</td>\n",
       "      <td>41544.22000000</td>\n",
       "      <td>42296.26000000</td>\n",
       "      <td>42400.00000000</td>\n",
       "      <td>42325.02000000</td>\n",
       "      <td>...</td>\n",
       "      <td>12111.73000000</td>\n",
       "      <td>13147.08000000</td>\n",
       "      <td>12794.73000000</td>\n",
       "      <td>12338.03000000</td>\n",
       "      <td>11538.00000000</td>\n",
       "      <td>11665.00000000</td>\n",
       "      <td>11406.83000000</td>\n",
       "      <td>12000.00000000</td>\n",
       "      <td>11991.89000000</td>\n",
       "      <td>10938.75000000</td>\n",
       "    </tr>\n",
       "    <tr>\n",
       "      <th>3a. low (USD)</th>\n",
       "      <td>44484.11000000</td>\n",
       "      <td>44071.97000000</td>\n",
       "      <td>43579.00000000</td>\n",
       "      <td>42560.46000000</td>\n",
       "      <td>41751.47000000</td>\n",
       "      <td>40875.51000000</td>\n",
       "      <td>40467.94000000</td>\n",
       "      <td>40911.00000000</td>\n",
       "      <td>41499.29000000</td>\n",
       "      <td>40135.04000000</td>\n",
       "      <td>...</td>\n",
       "      <td>11000.00000000</td>\n",
       "      <td>11569.00000000</td>\n",
       "      <td>12068.00000000</td>\n",
       "      <td>11220.00000000</td>\n",
       "      <td>11094.37000000</td>\n",
       "      <td>10964.51000000</td>\n",
       "      <td>10796.44000000</td>\n",
       "      <td>11055.00000000</td>\n",
       "      <td>10841.04000000</td>\n",
       "      <td>9727.00000000</td>\n",
       "    </tr>\n",
       "  </tbody>\n",
       "</table>\n",
       "<p>5 rows × 1000 columns</p>\n",
       "</div>"
      ],
      "text/plain": [
       "                    2022-03-27      2022-03-26      2022-03-25  \\\n",
       "1a. open (USD)  44511.27000000  44313.16000000  43991.46000000   \n",
       "1b. open (USD)  44511.27000000  44313.16000000  43991.46000000   \n",
       "2a. high (USD)  44619.00000000  44792.99000000  45094.14000000   \n",
       "2b. high (USD)  44619.00000000  44792.99000000  45094.14000000   \n",
       "3a. low (USD)   44484.11000000  44071.97000000  43579.00000000   \n",
       "\n",
       "                    2022-03-24      2022-03-23      2022-03-22  \\\n",
       "1a. open (USD)  42882.76000000  42364.13000000  41002.26000000   \n",
       "1b. open (USD)  42882.76000000  42364.13000000  41002.26000000   \n",
       "2a. high (USD)  44220.89000000  43025.96000000  43361.00000000   \n",
       "2b. high (USD)  44220.89000000  43025.96000000  43361.00000000   \n",
       "3a. low (USD)   42560.46000000  41751.47000000  40875.51000000   \n",
       "\n",
       "                    2022-03-21      2022-03-20      2022-03-19  \\\n",
       "1a. open (USD)  41262.11000000  42201.13000000  41757.51000000   \n",
       "1b. open (USD)  41262.11000000  42201.13000000  41757.51000000   \n",
       "2a. high (USD)  41544.22000000  42296.26000000  42400.00000000   \n",
       "2b. high (USD)  41544.22000000  42296.26000000  42400.00000000   \n",
       "3a. low (USD)   40467.94000000  40911.00000000  41499.29000000   \n",
       "\n",
       "                    2022-03-18  ...      2019-07-11      2019-07-10  \\\n",
       "1a. open (USD)  40917.89000000  ...  12108.11000000  12548.51000000   \n",
       "1b. open (USD)  40917.89000000  ...  12108.11000000  12548.51000000   \n",
       "2a. high (USD)  42325.02000000  ...  12111.73000000  13147.08000000   \n",
       "2b. high (USD)  42325.02000000  ...  12111.73000000  13147.08000000   \n",
       "3a. low (USD)   40135.04000000  ...  11000.00000000  11569.00000000   \n",
       "\n",
       "                    2019-07-09      2019-07-08      2019-07-07  \\\n",
       "1a. open (USD)  12238.60000000  11410.00000000  11256.45000000   \n",
       "1b. open (USD)  12238.60000000  11410.00000000  11256.45000000   \n",
       "2a. high (USD)  12794.73000000  12338.03000000  11538.00000000   \n",
       "2b. high (USD)  12794.73000000  12338.03000000  11538.00000000   \n",
       "3a. low (USD)   12068.00000000  11220.00000000  11094.37000000   \n",
       "\n",
       "                    2019-07-06      2019-07-05      2019-07-04  \\\n",
       "1a. open (USD)  10982.41000000  11145.67000000  11940.00000000   \n",
       "1b. open (USD)  10982.41000000  11145.67000000  11940.00000000   \n",
       "2a. high (USD)  11665.00000000  11406.83000000  12000.00000000   \n",
       "2b. high (USD)  11665.00000000  11406.83000000  12000.00000000   \n",
       "3a. low (USD)   10964.51000000  10796.44000000  11055.00000000   \n",
       "\n",
       "                    2019-07-03      2019-07-02  \n",
       "1a. open (USD)  10844.98000000  10624.90000000  \n",
       "1b. open (USD)  10844.98000000  10624.90000000  \n",
       "2a. high (USD)  11991.89000000  10938.75000000  \n",
       "2b. high (USD)  11991.89000000  10938.75000000  \n",
       "3a. low (USD)   10841.04000000   9727.00000000  \n",
       "\n",
       "[5 rows x 1000 columns]"
      ]
     },
     "execution_count": 14,
     "metadata": {},
     "output_type": "execute_result"
    }
   ],
   "source": [
    "#Column titles and Index need to be switched\n",
    "df.head()"
   ]
  },
  {
   "cell_type": "code",
   "execution_count": 15,
   "id": "c7682aa2",
   "metadata": {},
   "outputs": [],
   "source": [
    "#from_dict() function is used to construct DF from dictionary\n",
    "df = df.from_dict(d, orient=\"index\")"
   ]
  },
  {
   "cell_type": "code",
   "execution_count": 16,
   "id": "109b47f9",
   "metadata": {
    "scrolled": true
   },
   "outputs": [
    {
     "data": {
      "text/html": [
       "<div>\n",
       "<style scoped>\n",
       "    .dataframe tbody tr th:only-of-type {\n",
       "        vertical-align: middle;\n",
       "    }\n",
       "\n",
       "    .dataframe tbody tr th {\n",
       "        vertical-align: top;\n",
       "    }\n",
       "\n",
       "    .dataframe thead th {\n",
       "        text-align: right;\n",
       "    }\n",
       "</style>\n",
       "<table border=\"1\" class=\"dataframe\">\n",
       "  <thead>\n",
       "    <tr style=\"text-align: right;\">\n",
       "      <th></th>\n",
       "      <th>1a. open (USD)</th>\n",
       "      <th>1b. open (USD)</th>\n",
       "      <th>2a. high (USD)</th>\n",
       "      <th>2b. high (USD)</th>\n",
       "      <th>3a. low (USD)</th>\n",
       "      <th>3b. low (USD)</th>\n",
       "      <th>4a. close (USD)</th>\n",
       "      <th>4b. close (USD)</th>\n",
       "      <th>5. volume</th>\n",
       "      <th>6. market cap (USD)</th>\n",
       "    </tr>\n",
       "  </thead>\n",
       "  <tbody>\n",
       "    <tr>\n",
       "      <th>2022-03-27</th>\n",
       "      <td>44511.27000000</td>\n",
       "      <td>44511.27000000</td>\n",
       "      <td>44619.00000000</td>\n",
       "      <td>44619.00000000</td>\n",
       "      <td>44484.11000000</td>\n",
       "      <td>44484.11000000</td>\n",
       "      <td>44607.04000000</td>\n",
       "      <td>44607.04000000</td>\n",
       "      <td>716.38814000</td>\n",
       "      <td>716.38814000</td>\n",
       "    </tr>\n",
       "    <tr>\n",
       "      <th>2022-03-26</th>\n",
       "      <td>44313.16000000</td>\n",
       "      <td>44313.16000000</td>\n",
       "      <td>44792.99000000</td>\n",
       "      <td>44792.99000000</td>\n",
       "      <td>44071.97000000</td>\n",
       "      <td>44071.97000000</td>\n",
       "      <td>44511.27000000</td>\n",
       "      <td>44511.27000000</td>\n",
       "      <td>23041.61741000</td>\n",
       "      <td>23041.61741000</td>\n",
       "    </tr>\n",
       "    <tr>\n",
       "      <th>2022-03-25</th>\n",
       "      <td>43991.46000000</td>\n",
       "      <td>43991.46000000</td>\n",
       "      <td>45094.14000000</td>\n",
       "      <td>45094.14000000</td>\n",
       "      <td>43579.00000000</td>\n",
       "      <td>43579.00000000</td>\n",
       "      <td>44313.16000000</td>\n",
       "      <td>44313.16000000</td>\n",
       "      <td>54614.43648000</td>\n",
       "      <td>54614.43648000</td>\n",
       "    </tr>\n",
       "    <tr>\n",
       "      <th>2022-03-24</th>\n",
       "      <td>42882.76000000</td>\n",
       "      <td>42882.76000000</td>\n",
       "      <td>44220.89000000</td>\n",
       "      <td>44220.89000000</td>\n",
       "      <td>42560.46000000</td>\n",
       "      <td>42560.46000000</td>\n",
       "      <td>43991.46000000</td>\n",
       "      <td>43991.46000000</td>\n",
       "      <td>56195.12374000</td>\n",
       "      <td>56195.12374000</td>\n",
       "    </tr>\n",
       "    <tr>\n",
       "      <th>2022-03-23</th>\n",
       "      <td>42364.13000000</td>\n",
       "      <td>42364.13000000</td>\n",
       "      <td>43025.96000000</td>\n",
       "      <td>43025.96000000</td>\n",
       "      <td>41751.47000000</td>\n",
       "      <td>41751.47000000</td>\n",
       "      <td>42882.76000000</td>\n",
       "      <td>42882.76000000</td>\n",
       "      <td>40828.87039000</td>\n",
       "      <td>40828.87039000</td>\n",
       "    </tr>\n",
       "  </tbody>\n",
       "</table>\n",
       "</div>"
      ],
      "text/plain": [
       "            1a. open (USD)  1b. open (USD)  2a. high (USD)  2b. high (USD)  \\\n",
       "2022-03-27  44511.27000000  44511.27000000  44619.00000000  44619.00000000   \n",
       "2022-03-26  44313.16000000  44313.16000000  44792.99000000  44792.99000000   \n",
       "2022-03-25  43991.46000000  43991.46000000  45094.14000000  45094.14000000   \n",
       "2022-03-24  42882.76000000  42882.76000000  44220.89000000  44220.89000000   \n",
       "2022-03-23  42364.13000000  42364.13000000  43025.96000000  43025.96000000   \n",
       "\n",
       "             3a. low (USD)   3b. low (USD) 4a. close (USD) 4b. close (USD)  \\\n",
       "2022-03-27  44484.11000000  44484.11000000  44607.04000000  44607.04000000   \n",
       "2022-03-26  44071.97000000  44071.97000000  44511.27000000  44511.27000000   \n",
       "2022-03-25  43579.00000000  43579.00000000  44313.16000000  44313.16000000   \n",
       "2022-03-24  42560.46000000  42560.46000000  43991.46000000  43991.46000000   \n",
       "2022-03-23  41751.47000000  41751.47000000  42882.76000000  42882.76000000   \n",
       "\n",
       "                 5. volume 6. market cap (USD)  \n",
       "2022-03-27    716.38814000        716.38814000  \n",
       "2022-03-26  23041.61741000      23041.61741000  \n",
       "2022-03-25  54614.43648000      54614.43648000  \n",
       "2022-03-24  56195.12374000      56195.12374000  \n",
       "2022-03-23  40828.87039000      40828.87039000  "
      ]
     },
     "execution_count": 16,
     "metadata": {},
     "output_type": "execute_result"
    }
   ],
   "source": [
    "df.head()"
   ]
  },
  {
   "cell_type": "code",
   "execution_count": 17,
   "id": "a791ac95",
   "metadata": {
    "scrolled": true
   },
   "outputs": [
    {
     "name": "stdout",
     "output_type": "stream",
     "text": [
      "<class 'pandas.core.frame.DataFrame'>\n",
      "Index: 1000 entries, 2022-03-27 to 2019-07-02\n",
      "Data columns (total 10 columns):\n",
      " #   Column               Non-Null Count  Dtype \n",
      "---  ------               --------------  ----- \n",
      " 0   1a. open (USD)       1000 non-null   object\n",
      " 1   1b. open (USD)       1000 non-null   object\n",
      " 2   2a. high (USD)       1000 non-null   object\n",
      " 3   2b. high (USD)       1000 non-null   object\n",
      " 4   3a. low (USD)        1000 non-null   object\n",
      " 5   3b. low (USD)        1000 non-null   object\n",
      " 6   4a. close (USD)      1000 non-null   object\n",
      " 7   4b. close (USD)      1000 non-null   object\n",
      " 8   5. volume            1000 non-null   object\n",
      " 9   6. market cap (USD)  1000 non-null   object\n",
      "dtypes: object(10)\n",
      "memory usage: 85.9+ KB\n"
     ]
    }
   ],
   "source": [
    "#data type is string/object. It needs to be converted to numeric data type\n",
    "df.info()"
   ]
  },
  {
   "cell_type": "code",
   "execution_count": 18,
   "id": "346d2a74",
   "metadata": {},
   "outputs": [],
   "source": [
    "#convert from object to numeric data type(float)\n",
    "df = df.astype(float)"
   ]
  },
  {
   "cell_type": "code",
   "execution_count": 19,
   "id": "1501de32",
   "metadata": {},
   "outputs": [
    {
     "name": "stdout",
     "output_type": "stream",
     "text": [
      "<class 'pandas.core.frame.DataFrame'>\n",
      "Index: 1000 entries, 2022-03-27 to 2019-07-02\n",
      "Data columns (total 10 columns):\n",
      " #   Column               Non-Null Count  Dtype  \n",
      "---  ------               --------------  -----  \n",
      " 0   1a. open (USD)       1000 non-null   float64\n",
      " 1   1b. open (USD)       1000 non-null   float64\n",
      " 2   2a. high (USD)       1000 non-null   float64\n",
      " 3   2b. high (USD)       1000 non-null   float64\n",
      " 4   3a. low (USD)        1000 non-null   float64\n",
      " 5   3b. low (USD)        1000 non-null   float64\n",
      " 6   4a. close (USD)      1000 non-null   float64\n",
      " 7   4b. close (USD)      1000 non-null   float64\n",
      " 8   5. volume            1000 non-null   float64\n",
      " 9   6. market cap (USD)  1000 non-null   float64\n",
      "dtypes: float64(10)\n",
      "memory usage: 85.9+ KB\n"
     ]
    }
   ],
   "source": [
    "#Now they're all floats!!\n",
    "df.info()"
   ]
  },
  {
   "cell_type": "code",
   "execution_count": 20,
   "id": "81d20757",
   "metadata": {},
   "outputs": [
    {
     "data": {
      "text/plain": [
       "2022-03-27    44607.04\n",
       "2022-03-26    44511.27\n",
       "2022-03-25    44313.16\n",
       "2022-03-24    43991.46\n",
       "2022-03-23    42882.76\n",
       "2022-03-22    42364.13\n",
       "2022-03-21    41002.25\n",
       "2022-03-20    41262.11\n",
       "2022-03-19    42201.13\n",
       "2022-03-18    41757.51\n",
       "2022-03-17    40917.90\n",
       "2022-03-16    41114.00\n",
       "2022-03-15    39280.33\n",
       "2022-03-14    39671.37\n",
       "2022-03-13    37777.34\n",
       "2022-03-12    38807.36\n",
       "2022-03-11    38729.57\n",
       "2022-03-10    39422.00\n",
       "2022-03-09    41941.71\n",
       "2022-03-08    38730.63\n",
       "2022-03-07    37988.00\n",
       "2022-03-06    38420.81\n",
       "2022-03-05    39397.96\n",
       "2022-03-04    39148.66\n",
       "2022-03-03    42454.00\n",
       "2022-03-02    43892.98\n",
       "2022-03-01    44421.20\n",
       "2022-02-28    43160.00\n",
       "2022-02-27    37699.07\n",
       "2022-02-26    39116.72\n",
       "2022-02-25    39219.17\n",
       "2022-02-24    38327.21\n",
       "2022-02-23    37250.01\n",
       "2022-02-22    38230.33\n",
       "2022-02-21    37008.16\n",
       "2022-02-20    38386.89\n",
       "2022-02-19    40079.17\n",
       "2022-02-18    39974.44\n",
       "2022-02-17    40515.70\n",
       "2022-02-16    43873.56\n",
       "2022-02-15    44544.86\n",
       "2022-02-14    42535.94\n",
       "2022-02-13    42053.66\n",
       "2022-02-12    42217.87\n",
       "2022-02-11    42373.73\n",
       "2022-02-10    43495.44\n",
       "2022-02-09    44372.72\n",
       "2022-02-08    44042.99\n",
       "2022-02-07    43839.99\n",
       "2022-02-06    42380.87\n",
       "2022-02-05    41382.59\n",
       "2022-02-04    41574.25\n",
       "2022-02-03    37311.61\n",
       "2022-02-02    36896.36\n",
       "2022-02-01    38694.59\n",
       "2022-01-31    38466.90\n",
       "2022-01-30    37881.76\n",
       "2022-01-29    38166.84\n",
       "2022-01-28    37716.56\n",
       "2022-01-27    37160.10\n",
       "Name: 4a. close (USD), dtype: float64"
      ]
     },
     "execution_count": 20,
     "metadata": {},
     "output_type": "execute_result"
    }
   ],
   "source": [
    "#Pulls Column with closing prices as well as the index and it's cut down to 60 rows\n",
    "df[\"4a. close (USD)\"].iloc[:60]"
   ]
  },
  {
   "cell_type": "code",
   "execution_count": 21,
   "id": "49858bf8",
   "metadata": {},
   "outputs": [
    {
     "data": {
      "text/plain": [
       "Index(['2022-03-27', '2022-03-26', '2022-03-25', '2022-03-24', '2022-03-23',\n",
       "       '2022-03-22', '2022-03-21', '2022-03-20', '2022-03-19', '2022-03-18',\n",
       "       '2022-03-17', '2022-03-16', '2022-03-15', '2022-03-14', '2022-03-13',\n",
       "       '2022-03-12', '2022-03-11', '2022-03-10', '2022-03-09', '2022-03-08',\n",
       "       '2022-03-07', '2022-03-06', '2022-03-05', '2022-03-04', '2022-03-03',\n",
       "       '2022-03-02', '2022-03-01', '2022-02-28', '2022-02-27', '2022-02-26',\n",
       "       '2022-02-25', '2022-02-24', '2022-02-23', '2022-02-22', '2022-02-21',\n",
       "       '2022-02-20', '2022-02-19', '2022-02-18', '2022-02-17', '2022-02-16',\n",
       "       '2022-02-15', '2022-02-14', '2022-02-13', '2022-02-12', '2022-02-11',\n",
       "       '2022-02-10', '2022-02-09', '2022-02-08', '2022-02-07', '2022-02-06',\n",
       "       '2022-02-05', '2022-02-04', '2022-02-03', '2022-02-02', '2022-02-01',\n",
       "       '2022-01-31', '2022-01-30', '2022-01-29', '2022-01-28', '2022-01-27'],\n",
       "      dtype='object')"
      ]
     },
     "execution_count": 21,
     "metadata": {},
     "output_type": "execute_result"
    }
   ],
   "source": [
    "#Pulls index and the rows(60) match the columns\n",
    "df.index[:60]"
   ]
  },
  {
   "cell_type": "code",
   "execution_count": 22,
   "id": "629fce72",
   "metadata": {},
   "outputs": [
    {
     "data": {
      "image/png": "[encoded data removed]",
      "text/plain": [
       "<Figure size 1728x576 with 1 Axes>"
      ]
     },
     "metadata": {
      "needs_background": "light"
     },
     "output_type": "display_data"
    }
   ],
   "source": [
    "#Plot \n",
    "y = df[\"4a. close (USD)\"].iloc[:60]\n",
    "x = df.index[:60]\n",
    "\n",
    "plt.figure(figsize=(24,8))\n",
    "plt.plot(x,y)\n",
    "plt.ylabel(\"Closing Prices\")\n",
    "#If info is too clustered, xticks can alter the appearance of the ticks by \n",
    "plt.xticks(rotation=90);\n",
    "plt.title(\"Bitcoin USD\")\n",
    "plt.grid();"
   ]
  }
 ],
 "metadata": {
  "kernelspec": {
   "display_name": "Python 3 (ipykernel)",
   "language": "python",
   "name": "python3"
  },
  "language_info": {
   "codemirror_mode": {
    "name": "ipython",
    "version": 3
   },
   "file_extension": ".py",
   "mimetype": "text/x-python",
   "name": "python",
   "nbconvert_exporter": "python",
   "pygments_lexer": "ipython3",
   "version": "3.9.7"
  }
 },
 "nbformat": 4,
 "nbformat_minor": 5
}
